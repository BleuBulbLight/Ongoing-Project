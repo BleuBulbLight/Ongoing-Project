{
 "cells": [
  {
   "cell_type": "markdown",
   "metadata": {},
   "source": [
    "문제:  \n",
    "\n",
    "(세 자리 수) × (세 자리 수)는 다음과 같은 과정을 통하여 이루어진다.\n",
    "\n",
    "![](2588.png)\n",
    "\n",
    "(1)과 (2)위치에 들어갈 세 자리 자연수가 주어질 때 (3), (4), (5), (6)위치에 들어갈 값을 구하는 프로그램을 작성하시오.\n",
    "\n",
    "입력:  \n",
    "첫째 줄에 (1)의 위치에 들어갈 세 자리 자연수가, 둘째 줄에 (2)의 위치에 들어갈 세자리 자연수가 주어진다.\n",
    "\n",
    "출력:  \n",
    "첫째 줄부터 넷째 줄까지 차례대로 (3), (4), (5), (6)에 들어갈 값을 출력한다.\n",
    "\n",
    "예제 입력 1 :  \n",
    "472  \n",
    "385  \n",
    "\n",
    "예제 출력 2 :   \n",
    "2360   \n",
    "3776  \n",
    "1416  \n",
    "181720  "
   ]
  },
  {
   "cell_type": "code",
   "execution_count": 6,
   "metadata": {},
   "outputs": [
    {
     "name": "stdout",
     "output_type": "stream",
     "text": [
      "2360\n",
      "3776\n",
      "1416\n",
      "181720\n"
     ]
    }
   ],
   "source": [
    "a = input()\n",
    "b = input()\n",
    "\n",
    "# [alert] 인덱싱은 문자열, 리스트, 튜플 자료형에서만 가능하다.\n",
    "\n",
    "print(int(a)*int(b[2]))\n",
    "print(int(a)*int(b[1]))\n",
    "print(int(a)*int(b[0]))\n",
    "print(int(a)*int(b))"
   ]
  },
  {
   "cell_type": "code",
   "execution_count": 30,
   "metadata": {},
   "outputs": [
    {
     "name": "stdout",
     "output_type": "stream",
     "text": [
      "251972\n",
      "377958\n",
      "629930\n",
      "125986\n",
      "629930\n",
      "377958\n",
      "44288110552\n"
     ]
    }
   ],
   "source": [
    "# 이렇게 해도 되긴 되는데, 수학적 알고리즘 없이 어거지로 맞춘 느낌이라 성에 안 찬다.\n",
    "# 좀 더 코드의 범용성을 키워보자.\n",
    "# m 자리 수 * n 자리 수 를 입력할 수 있고, 출력결과도 위와 같은 코드를 만들자.\n",
    "\n",
    "a = input()\n",
    "b = input()\n",
    "result = 0\n",
    "\n",
    "# [alert] rnage()함수의 파라미터는 range([start,] stop [,step]) 이며, []쳐진 값은 생략가능하고 defalut값 start = 0, step = 1 이다.\n",
    "# 여기서 stop parameter을 0으로 하면 예제에서 출력되야 할 '1416'이 출력되지 않는데, 이는 0이 되면 for문이 거기서 한번 더 도는게 아니라 즉시 멈추기 때문.\n",
    "\n",
    "for b_len in range(len(b)-1, -1, -1) :\n",
    "    intermin = int(a) * int(b[b_len])\n",
    "    result += intermin * 10**(len(b)-1-b_len)\n",
    "    print(intermin)\n",
    "    \n",
    "# 10**(len(b)-1-b_len)을 왜 써야하는지 모르는 경우, 아래 Cell 사진을 보면 참고가 가능하다.\n",
    "    \n",
    "print(result)\n",
    "\n",
    "# 해당 코드 확인결과 이것도 맞음! 오히려 이전코드보다 4ms 더 줄었음.. 신기\n",
    "\n"
   ]
  },
  {
   "cell_type": "markdown",
   "metadata": {},
   "source": [
    "![](2588_1.png)"
   ]
  }
 ],
 "metadata": {
  "kernelspec": {
   "display_name": "condahyun",
   "language": "python",
   "name": "conda"
  },
  "language_info": {
   "codemirror_mode": {
    "name": "ipython",
    "version": 3
   },
   "file_extension": ".py",
   "mimetype": "text/x-python",
   "name": "python",
   "nbconvert_exporter": "python",
   "pygments_lexer": "ipython3",
   "version": "3.10.3"
  },
  "orig_nbformat": 4
 },
 "nbformat": 4,
 "nbformat_minor": 2
}
