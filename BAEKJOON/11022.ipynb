{
 "cells": [
  {
   "cell_type": "markdown",
   "metadata": {},
   "source": [
    "문제:  \n",
    "두 정수 A와 B를 입력받은 다음, A+B를 출력하는 프로그램을 작성하시오.\n",
    "\n",
    "입력:  \n",
    "첫째 줄에 테스트 케이스의 개수 T가 주어진다.\n",
    "\n",
    "각 테스트 케이스는 한 줄로 이루어져 있으며, 각 줄에 A와 B가 주어진다. (0 < A, B < 10)\n",
    "\n",
    "출력:  \n",
    "각 테스트 케이스마다 \"Case #x: A + B = C\" 형식으로 출력한다. x는 테스트 케이스 번호이고 1부터 시작하며, C는 A+B이다.\n",
    "\n",
    "예제 입력 1 :  \n",
    "5  \n",
    "1 1  \n",
    "2 3  \n",
    "3 4  \n",
    "9 8  \n",
    "5 2  \n",
    "\n",
    "예제 출력 1 :  \n",
    "Case #1: 1 + 1 = 2  \n",
    "Case #2: 2 + 3 = 5  \n",
    "Case #3: 3 + 4 = 7  \n",
    "Case #4: 9 + 8 = 17  \n",
    "Case #5: 5 + 2 = 7  "
   ]
  },
  {
   "cell_type": "code",
   "execution_count": 2,
   "metadata": {},
   "outputs": [
    {
     "name": "stdout",
     "output_type": "stream",
     "text": [
      "[1, 2]\n",
      "[3, 4]\n",
      "[5, 6]\n"
     ]
    }
   ],
   "source": [
    "N = int(input())\n",
    "_list = list()\n",
    "_n = 1\n",
    "\n",
    "for i in range (0,N) :\n",
    "    _list.append(map(int, input().split()))\n",
    "    \n",
    "for index in _list :\n",
    "    print(list(index))\n",
    "    \n",
    "    #list(index) 쓰는 이유는 문제 11021 참조.\n",
    "    \n",
    "    \n",
    "    "
   ]
  }
 ],
 "metadata": {
  "kernelspec": {
   "display_name": "condahyun",
   "language": "python",
   "name": "conda"
  },
  "language_info": {
   "codemirror_mode": {
    "name": "ipython",
    "version": 3
   },
   "file_extension": ".py",
   "mimetype": "text/x-python",
   "name": "python",
   "nbconvert_exporter": "python",
   "pygments_lexer": "ipython3",
   "version": "3.10.3"
  },
  "orig_nbformat": 4
 },
 "nbformat": 4,
 "nbformat_minor": 2
}
