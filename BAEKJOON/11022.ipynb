{
 "cells": [
  {
   "cell_type": "markdown",
   "metadata": {},
   "source": [
    "문제:  \n",
    "두 정수 A와 B를 입력받은 다음, A+B를 출력하는 프로그램을 작성하시오.\n",
    "\n",
    "입력:  \n",
    "첫째 줄에 테스트 케이스의 개수 T가 주어진다.\n",
    "\n",
    "각 테스트 케이스는 한 줄로 이루어져 있으며, 각 줄에 A와 B가 주어진다. (0 < A, B < 10)\n",
    "\n",
    "출력:  \n",
    "각 테스트 케이스마다 \"Case #x: A + B = C\" 형식으로 출력한다. x는 테스트 케이스 번호이고 1부터 시작하며, C는 A+B이다.\n",
    "\n",
    "예제 입력 1 :  \n",
    "5  \n",
    "1 1  \n",
    "2 3  \n",
    "3 4  \n",
    "9 8  \n",
    "5 2  \n",
    "\n",
    "예제 출력 1 :  \n",
    "Case #1: 1 + 1 = 2  \n",
    "Case #2: 2 + 3 = 5  \n",
    "Case #3: 3 + 4 = 7  \n",
    "Case #4: 9 + 8 = 17  \n",
    "Case #5: 5 + 2 = 7  "
   ]
  },
  {
   "cell_type": "code",
   "execution_count": 1,
   "metadata": {},
   "outputs": [
    {
     "name": "stdout",
     "output_type": "stream",
     "text": [
      "Case #1: 1 + 2 = 3\n",
      "Case #2: 3 + 4 = 7\n",
      "Case #3: 5 + 6 = 11\n"
     ]
    }
   ],
   "source": [
    "N = int(input())\n",
    "_list = list()\n",
    "_n = 1\n",
    "\n",
    "for i in range (0,N) :\n",
    "    _list.append(map(int, input().split()))\n",
    "    \n",
    "for index in _list :\n",
    "    cal_list = list(index)\n",
    "    print(\"Case #{}: {} + {} = {}\".format(_n, cal_list[0], cal_list[1], sum(cal_list)))\n",
    "    _n += 1\n",
    "        \n",
    "    \n",
    "    #list(index) 쓰는 이유는 문제 11021 참조.\n",
    "    \n",
    "#맞음, 30864kb, 72ms"
   ]
  },
  {
   "cell_type": "code",
   "execution_count": 17,
   "metadata": {},
   "outputs": [
    {
     "name": "stdout",
     "output_type": "stream",
     "text": [
      "Case #1: 1 + 3 + 2 + 1 + 5 = 12\n",
      "Case #2: 2 + 1321 + 5 + 1 = 1329\n",
      "Case #3: 2 + 1 + 5 = 8\n",
      "Case #4: 2 + 2 + 2 + 2 + 2 + 2 + 2 + 2 + 2 + 2 = 20\n",
      "Case #5: 6 + 1 + 2 = 9\n"
     ]
    }
   ],
   "source": [
    "# 위의 예제도 맞긴 맞아. 그런데 문제를 확장시켜 한 줄에 3개, 4개, ... 아니 n개 입력해도 출력해줄 수는 없을까?\n",
    "\n",
    "N = int(input())\n",
    "_list = list()\n",
    "_n = 1\n",
    "\n",
    "for i in range (0,N) :\n",
    "    _list.append(map(int, input().split()))\n",
    "\n",
    "for index in _list :\n",
    "    cal_list = list(index)\n",
    "    \n",
    "    print(\"Case #{}: \".format(_n) , end='')\n",
    "    \n",
    "    print(\"{} \".format(cal_list[0]), end='')\n",
    "    for _num in range (1, len(cal_list)) :\n",
    "        print(\"+ \", end='')\n",
    "        print(\"{} \".format(cal_list[_num]), end='')\n",
    "        \n",
    "    print(\"= {}\".format(sum(cal_list)))\n",
    "    \n",
    "    _n += 1\n",
    "    \n",
    "\n",
    "# 맞음. 30860kb, 76ms\n",
    "# Q. 문자열 포맷팅에서, print(\"{} + {} + {}.format(~~)\") 고 list가 [1,2,3]이면 \"1 + 2 + 3\" 출력 못 할까? 그니깐 ~~ 에는 뭘써야지 가능하지? (단, list 크기는 가변이다.)\n",
    "    \n",
    "    "
   ]
  }
 ],
 "metadata": {
  "kernelspec": {
   "display_name": "condahyun",
   "language": "python",
   "name": "conda"
  },
  "language_info": {
   "codemirror_mode": {
    "name": "ipython",
    "version": 3
   },
   "file_extension": ".py",
   "mimetype": "text/x-python",
   "name": "python",
   "nbconvert_exporter": "python",
   "pygments_lexer": "ipython3",
   "version": "3.10.3"
  },
  "orig_nbformat": 4
 },
 "nbformat": 4,
 "nbformat_minor": 2
}
