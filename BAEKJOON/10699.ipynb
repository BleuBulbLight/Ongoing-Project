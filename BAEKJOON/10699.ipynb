{
 "cells": [
  {
   "cell_type": "markdown",
   "metadata": {},
   "source": [
    "문제:  \n",
    "서울의 오늘 날짜를 출력하는 프로그램을 작성하시오.\n",
    "\n",
    "입력:  \n",
    "입력은 없다.\n",
    "\n",
    "출력:  \n",
    "서울의 오늘 날짜를 \"YYYY-MM-DD\" 형식으로 출력한다.\n",
    "\n",
    "예제 입력 1  \n",
    "\n",
    "예제 출력 1  \n",
    "2015-01-24\n",
    "\n",
    "힌트:  \n",
    "채점 서버는 시간대(Timezone)는 UTC+0 이다.\n",
    "\n",
    "다음은 채점 서버에서 KST 시간으로 2018년 3월 21일 오후 2시 7분 38초에 date 명령어를 실행시킨 결과이다.\n",
    "\n",
    "Wed Mar 21 05:07:38 UTC 2018"
   ]
  },
  {
   "cell_type": "code",
   "execution_count": 8,
   "metadata": {},
   "outputs": [
    {
     "name": "stdout",
     "output_type": "stream",
     "text": [
      "2022-03-23\n"
     ]
    }
   ],
   "source": [
    "import datetime as dt\n",
    "from pytz import timezone\n",
    "\n",
    "nowtime = dt.datetime.now(timezone('Asia/Seoul'))\n",
    "print(nowtime.strftime(\"%Y-%m-%d\"))\n",
    "\n",
    "# 제출하니까, 런타임 에러 (ModuleNotFoundError) 뜸. 왜?\n",
    "# 찾아보니, \"BOJ에서는 Python의 외부 라이브러리를 사용할 수 없습니다.\" 라고 한다. 이런..\n",
    "# 아마 timezone이 외부 라이브러리라서 그런 거 같다."
   ]
  },
  {
   "cell_type": "code",
   "execution_count": 27,
   "metadata": {},
   "outputs": [
    {
     "name": "stdout",
     "output_type": "stream",
     "text": [
      "2022-03-23 16:51:00.332222\n",
      "2022-03-23\n"
     ]
    }
   ],
   "source": [
    "import datetime as dt\n",
    "\n",
    "nowtime_kst = dt.datetime.now().replace(tzinfo=dt.timezone(dt.timedelta(hours=9)))\n",
    "\n",
    "print(str(nowtime_kst)[:10])\n",
    "\n",
    "\n",
    "# replace() 는 문자열을 변경하는 함수로, replace(old,new,[count]) 이고, old에 적힌 문자열을 new로 count번 바꾸겠단 뜻이다. count는 따로 입력 않을 시 전체를 변경한다. (count = -1)\n",
    "# Q. old, new에 해당하는 argument 2개는 필요한데, 왜 replace 안에 tzinfo=dt.timezone(dt.timedelta(hours=9)) 만 채워넣어도 되는지? 이게 argument 2개인가?"
   ]
  },
  {
   "cell_type": "markdown",
   "metadata": {},
   "source": [
    "참조 : https://datascienceschool.net/01%20python/02.15%20%ED%8C%8C%EC%9D%B4%EC%8D%AC%EC%97%90%EC%84%9C%20%EB%82%A0%EC%A7%9C%EC%99%80%20%EC%8B%9C%EA%B0%84%20%EB%8B%A4%EB%A3%A8%EA%B8%B0.html\n",
    "\n",
    "참조2 : https://gonigoni.kr/posts/python-datetime-test/\n",
    "\n",
    "참조3 : https://brownbears.tistory.com/356"
   ]
  }
 ],
 "metadata": {
  "kernelspec": {
   "display_name": "condahyun",
   "language": "python",
   "name": "conda"
  },
  "language_info": {
   "codemirror_mode": {
    "name": "ipython",
    "version": 3
   },
   "file_extension": ".py",
   "mimetype": "text/x-python",
   "name": "python",
   "nbconvert_exporter": "python",
   "pygments_lexer": "ipython3",
   "version": "3.10.3"
  },
  "orig_nbformat": 4
 },
 "nbformat": 4,
 "nbformat_minor": 2
}
